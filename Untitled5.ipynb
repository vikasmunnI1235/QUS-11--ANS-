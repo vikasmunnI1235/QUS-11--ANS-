{
  "nbformat": 4,
  "nbformat_minor": 0,
  "metadata": {
    "colab": {
      "provenance": []
    },
    "kernelspec": {
      "name": "python3",
      "display_name": "Python 3"
    },
    "language_info": {
      "name": "python"
    }
  },
  "cells": [
    {
      "cell_type": "markdown",
      "source": [
        "#Theory Questions"
      ],
      "metadata": {
        "id": "1FHZYOXkC8vF"
      }
    },
    {
      "cell_type": "markdown",
      "source": [
        "QUS 1 :- What is the difference between a function and a method in Python\n",
        "ANS In Python, functions and methods are both blocks of code that perform specific tasks and can be called to execute. However, they have some key differences:\n",
        "(1) All methods are functions, but not all functions are methods.\n",
        "(2) Use functions when logic is not dependent on object state.\n",
        "(3) Use methods when logic operates on or relates to object data."
      ],
      "metadata": {
        "id": "uxbNjdJCYT35"
      }
    },
    {
      "cell_type": "markdown",
      "source": [
        "QUS 2 :- Explain the concept of function arguments and parameters in Python.\n",
        "ANS In Python, parameters and arguments are related concepts but used at different stages of a function’s life cycle:\n",
        "Types of Arguments in Python\n",
        "(1 ) Positional Arguments\n",
        "(2) Keyword Arguments\n",
        "(3) Default Arguments\n",
        "(4) Variable-Length Arguments\n",
        "\n"
      ],
      "metadata": {
        "id": "KT9sYa33YmLI"
      }
    },
    {
      "cell_type": "markdown",
      "source": [
        "QUS 3 :- What are the different ways to define and call a function in Python\n",
        "ANS  In Python, functions are blocks of reusable code that perform a specific task. There are several ways to define and call functions. Here's an overview:\n",
        "Standard Function Definition (def keyword)\n",
        "Function with Default Arguments\n",
        "Function with Variable-Length Arguments\n",
        "Anonymous Function (Lambda Function)\n",
        "Function Inside a Function (Nested Function)\n",
        "Function as a First-Class Object"
      ],
      "metadata": {
        "id": "6DyXsGTRZG2w"
      }
    },
    {
      "cell_type": "markdown",
      "source": [
        "QUS 4:- 4. What is the purpose of the `return` statement in a Python function\n",
        "ans The return statement in a Python function serves the following key purposes:\n",
        "return gives back a value to the caller.\n",
        "It ends the function’s execution.\n",
        "Without return, a function returns None."
      ],
      "metadata": {
        "id": "MEeCICrNepwa"
      }
    },
    {
      "cell_type": "markdown",
      "source": [
        "qus :- 5. What are iterators in Python and how do they differ from iterables?\n",
        "ans Understanding the difference between iterables and iterators is key to mastering loops and data processing in Python.\n",
        "Feature\t           Iterable\t                Iterator\n",
        "Purpose           Can be looped over\t      __iter__() and __next__()\n",
        "Method required\t  __iter__()\t              Generates values on demand\n",
        "Memory usage\t    Stores entire collection\tObjects from iter() or generators\n"
      ],
      "metadata": {
        "id": "7eTbMUKygJEz"
      }
    },
    {
      "cell_type": "markdown",
      "source": [
        "qus 6:- Explain the concept of generators in Python and how they are defined.\n",
        "A generator is a special type of iterator in Python that lets you generate values on the fly instead of storing them in memory all at once.\n",
        "Generators are memory-efficient and ideal for working with large data streams or sequences.\n",
        "Feature\t                        Benefit\n",
        "Lazy evaluation\t                Generate values on demand\n",
        "Memory efficient\t              Don’t store the entire sequence\n",
        "Infinite sequences\t            Can represent unbounded series\n",
        "Simplified code\t                Easier to write than iterator classes\n",
        "\n"
      ],
      "metadata": {
        "id": "RRD0RqNakJSE"
      }
    },
    {
      "cell_type": "markdown",
      "source": [
        "QUS 7 :-  What are the advantages of using generators over regular functions\n",
        "Generators in Python provide several advantages over regular functions, especially when working with large datasets or streaming data. Here are the key advantages:\n",
        "1. Memory Efficiency\n",
        "2. Lazy Evaluation\n",
        "3. Better Performance\n",
        "4. Simplified Code for Iterators\n",
        "5. Infinite Sequences\n",
        "6. Pipeline Support (Generator Chaining)\n",
        "\n",
        " Feature             Regular Functions  Generators\n",
        " ------------------ -----------------  ----------\n",
        " Memory efficient    ❌                  ✅        \n",
        " Lazy evaluation     ❌                  ✅        \n",
        " Infinite sequences  ❌                  ✅        \n",
        " Iterator support    Manual             Automatic  \n",
        " Use in pipelines   Limited             Excellent  \n",
        "\n"
      ],
      "metadata": {
        "id": "HmXBjj74lByO"
      }
    },
    {
      "cell_type": "markdown",
      "source": [
        "QUS 8 :- What is a lambda function in Python and when is it typically used\n",
        "A lambda function in Python is a small anonymous function defined using the lambda keyword instead of the standard def keyword.\n",
        "🔹 Key Characteristics:\n",
        "Anonymous: Does not require a name (though it can be assigned to a variable).\n",
        "Single expression only: Can only contain one expression (no statements like if, for, etc.).\n",
        "Returns automatically: The result of the expression is returned implicitly.\n",
        "🔹 When to Use Lambda Functions:\n",
        "When the function is simple and used only once or temporarily.\n",
        "When passing a function as an argument to higher-order functions like map(), filter(), or sorted().\n",
        "To improve code brevity and readability in simple logic cases.\n",
        "\n",
        "\n",
        "\n"
      ],
      "metadata": {
        "id": "80SEzu0xuibv"
      }
    },
    {
      "cell_type": "markdown",
      "source": [
        "QUS 9 :- Explain the purpose and usage of the `map()` function in Python.\n",
        " Advantages of map() Over Loops:\n",
        "More concise than a for loop.\n",
        "Can be faster in some cases due to internal optimizations.\n",
        "Works well with lambda functions and functional programming style.\n",
        "The map() function in Python is used to apply a function to every item in an iterable (like a list or tuple) and return a new iterable (a map object) with the results.\n",
        "\n",
        "\n",
        "\n",
        "\n"
      ],
      "metadata": {
        "id": "PdET0yv_wIz4"
      }
    },
    {
      "cell_type": "markdown",
      "source": [
        "QUS :- 10. What is the difference between `map()`, `reduce()`, and `filter()` functions in Python\n",
        "Difference Between map(), reduce(), and filter() in Python\n",
        "These three are functional programming tools in Python that operate on iterables. Here's a breakdown of their purpose, usage, and differences:\n",
        "1. map()\n",
        "Purpose: Applies a function to each item in an iterable and returns a new iterable (map object) with the transformed items.\n",
        "2. filter()\n",
        "Purpose: Applies a predicate (true/false function) to each item and returns only those items that return True.\n",
        "3. reduce() (from functools module)\n",
        "Purpose: Applies a function to accumulate or combine elements from left to right, reducing the iterable to a single value.\n",
        " Feature        `map()`                 |`filter()`                        | `reduce()`                      |\n",
        "| ------------- | ----------------------- | --------------------------------- | ------------------------------- |\n",
        "| Purpose       | Transform each item     | Select items that match condition | Combine items to a single value |\n",
        "| Returns       | `map` object (iterable) | `filter` object (iterable)        | Single value                    |\n",
        "| Function Type | Any function            | Boolean-returning function        | Two-argument combining function |\n",
        "| Module        | Built-in                | Built-in                          | `functools` module              |\n",
        "\n"
      ],
      "metadata": {
        "id": "lUl86fSAwZng"
      }
    },
    {
      "cell_type": "markdown",
      "source": [
        "QUS 11 :- 1. Using pen & Paper write the internal mechanism for sum operation using  reduce function on this given list:[47,11,42,13];\n",
        "ANS :- #https://github.com/vikasmunnI1235/QUS-11--ANS-/blob/main/556.jpg"
      ],
      "metadata": {
        "id": "IGDPDioE4Dpf"
      }
    },
    {
      "cell_type": "markdown",
      "source": [
        "# Practical Questions"
      ],
      "metadata": {
        "id": "1gg2S_8RC1rV"
      }
    },
    {
      "cell_type": "markdown",
      "source": [
        "QUS 1:- Write a Python function that takes a list of numbers as input and returns the sum of all even numbers in\n",
        "the list\n"
      ],
      "metadata": {
        "id": "RD3NDPBj_f3_"
      }
    },
    {
      "cell_type": "code",
      "source": [
        "my_list = [1, 2, 3, 4, 5, 6]\n",
        "result = sum_of_even_numbers(my_list)\n",
        "print(\"Sum of even numbers:\", result)\n",
        "\n"
      ],
      "metadata": {
        "colab": {
          "base_uri": "https://localhost:8080/"
        },
        "id": "tdN6YwmN_vL_",
        "outputId": "ad811e09-d43e-4d2a-da65-97916f4f0c43"
      },
      "execution_count": 3,
      "outputs": [
        {
          "output_type": "stream",
          "name": "stdout",
          "text": [
            "Sum of even numbers: 12\n"
          ]
        }
      ]
    },
    {
      "cell_type": "markdown",
      "source": [
        "QUS 2 :-  2. Create a Python function that accepts a string and returns the reverse of that string.\n"
      ],
      "metadata": {
        "id": "l6wM93uQADpQ"
      }
    },
    {
      "cell_type": "code",
      "source": [
        "def reverse_string(s):\n",
        "    return s[::-1]\n",
        "text = \"Hello, World!\"\n",
        "reversed_text = reverse_string(text)\n",
        "print(\"Reversed string:\", reversed_text)\n"
      ],
      "metadata": {
        "colab": {
          "base_uri": "https://localhost:8080/"
        },
        "id": "n13Sgcr-AecJ",
        "outputId": "21ac9648-8758-40eb-bcb2-ddbb3e1e9df5"
      },
      "execution_count": 6,
      "outputs": [
        {
          "output_type": "stream",
          "name": "stdout",
          "text": [
            "Reversed string: !dlroW ,olleH\n"
          ]
        }
      ]
    },
    {
      "cell_type": "markdown",
      "source": [
        "QUS 3 :- Implement a Python function that takes a list of integers and returns a new list containing the squares of\n",
        "each number."
      ],
      "metadata": {
        "id": "KHNppOQ6Atuy"
      }
    },
    {
      "cell_type": "code",
      "source": [
        "def square_numbers(numbers):\n",
        "    return [num ** 2 for num in numbers]\n",
        "my_list = [1, 2, 3, 4, 5]\n",
        "squared_list = square_numbers(my_list)\n",
        "print(\"Squared numbers:\", squared_list)\n"
      ],
      "metadata": {
        "colab": {
          "base_uri": "https://localhost:8080/"
        },
        "id": "bfVxQD2AAx1a",
        "outputId": "f668c10d-3f77-4063-9d07-077eff5e55fe"
      },
      "execution_count": 7,
      "outputs": [
        {
          "output_type": "stream",
          "name": "stdout",
          "text": [
            "Squared numbers: [1, 4, 9, 16, 25]\n"
          ]
        }
      ]
    },
    {
      "cell_type": "markdown",
      "source": [
        "QUS 4:- Write a Python function that checks if a given number is prime or not from 1 to 200"
      ],
      "metadata": {
        "id": "UZG0JvyTA3NS"
      }
    },
    {
      "cell_type": "code",
      "source": [
        "def is_prime(n):\n",
        "    if n < 2 or n > 200:\n",
        "        return False  # Not prime or out of range\n",
        "    for i in range(2, int(n**0.5) + 1):\n",
        "        if n % i == 0:\n",
        "            return False\n",
        "    return True\n",
        "for num in range(1, 201):\n",
        "    if is_prime(num):\n",
        "        print(num, \"is a prime number\")\n"
      ],
      "metadata": {
        "colab": {
          "base_uri": "https://localhost:8080/"
        },
        "id": "uwiDycKIA-m0",
        "outputId": "4e44b356-4274-43a6-9228-0fbc0d9ce713"
      },
      "execution_count": 8,
      "outputs": [
        {
          "output_type": "stream",
          "name": "stdout",
          "text": [
            "2 is a prime number\n",
            "3 is a prime number\n",
            "5 is a prime number\n",
            "7 is a prime number\n",
            "11 is a prime number\n",
            "13 is a prime number\n",
            "17 is a prime number\n",
            "19 is a prime number\n",
            "23 is a prime number\n",
            "29 is a prime number\n",
            "31 is a prime number\n",
            "37 is a prime number\n",
            "41 is a prime number\n",
            "43 is a prime number\n",
            "47 is a prime number\n",
            "53 is a prime number\n",
            "59 is a prime number\n",
            "61 is a prime number\n",
            "67 is a prime number\n",
            "71 is a prime number\n",
            "73 is a prime number\n",
            "79 is a prime number\n",
            "83 is a prime number\n",
            "89 is a prime number\n",
            "97 is a prime number\n",
            "101 is a prime number\n",
            "103 is a prime number\n",
            "107 is a prime number\n",
            "109 is a prime number\n",
            "113 is a prime number\n",
            "127 is a prime number\n",
            "131 is a prime number\n",
            "137 is a prime number\n",
            "139 is a prime number\n",
            "149 is a prime number\n",
            "151 is a prime number\n",
            "157 is a prime number\n",
            "163 is a prime number\n",
            "167 is a prime number\n",
            "173 is a prime number\n",
            "179 is a prime number\n",
            "181 is a prime number\n",
            "191 is a prime number\n",
            "193 is a prime number\n",
            "197 is a prime number\n",
            "199 is a prime number\n"
          ]
        }
      ]
    },
    {
      "cell_type": "markdown",
      "source": [
        "QUS 5:- . Create an iterator class in Python that generates the Fibonacci sequence up to a specified number of\n",
        "terms\n"
      ],
      "metadata": {
        "id": "lNpdOhjnBFDC"
      }
    },
    {
      "cell_type": "code",
      "source": [
        "class FibonacciIterator:\n",
        "    def __init__(self, max_terms):\n",
        "        self.max_terms = max_terms\n",
        "        self.count = 0\n",
        "        self.a = 0\n",
        "        self.b = 1\n",
        "\n",
        "    def __iter__(self):\n",
        "        return self\n",
        "\n",
        "    def __next__(self):\n",
        "        if self.count >= self.max_terms:\n",
        "            raise StopIteration\n",
        "        if self.count == 0:\n",
        "            self.count += 1\n",
        "            return self.a\n",
        "        elif self.count == 1:\n",
        "            self.count += 1\n",
        "            return self.b\n",
        "        else:\n",
        "            self.a, self.b = self.b, self.a + self.b\n",
        "            self.count += 1\n",
        "            return self.b\n",
        "fib = FibonacciIterator(10)  # Generate 10 terms\n",
        "for num in fib:\n",
        "    print(num)\n"
      ],
      "metadata": {
        "colab": {
          "base_uri": "https://localhost:8080/"
        },
        "id": "mG_DrGNbBJXC",
        "outputId": "57fa70eb-a26a-4f4c-d115-1498872ddaaa"
      },
      "execution_count": 10,
      "outputs": [
        {
          "output_type": "stream",
          "name": "stdout",
          "text": [
            "0\n",
            "1\n",
            "1\n",
            "2\n",
            "3\n",
            "5\n",
            "8\n",
            "13\n",
            "21\n",
            "34\n"
          ]
        }
      ]
    },
    {
      "cell_type": "markdown",
      "source": [
        "QUS 6 :- . Write a generator function in Python that yields the powers of 2 up to a given exponent."
      ],
      "metadata": {
        "id": "yFT5gBNSBSIa"
      }
    },
    {
      "cell_type": "code",
      "source": [
        "def powers_of_two(max_exponent):\n",
        "    for i in range(max_exponent + 1):\n",
        "        yield 2 ** i\n",
        "for power in powers_of_two(5):\n",
        "    print(power)\n"
      ],
      "metadata": {
        "colab": {
          "base_uri": "https://localhost:8080/"
        },
        "id": "YRUwBsTKBVxz",
        "outputId": "824e2a70-55d8-4f2f-88c1-0b098baed1b6"
      },
      "execution_count": 11,
      "outputs": [
        {
          "output_type": "stream",
          "name": "stdout",
          "text": [
            "1\n",
            "2\n",
            "4\n",
            "8\n",
            "16\n",
            "32\n"
          ]
        }
      ]
    },
    {
      "cell_type": "markdown",
      "source": [
        "QUS 7:- . Implement a generator function that reads a file line by line and yields each line as a string"
      ],
      "metadata": {
        "id": "aNVbd4HmBcYr"
      }
    },
    {
      "cell_type": "code",
      "source": [
        "# Create a dummy file for demonstration\n",
        "with open('example.txt', 'w') as f:\n",
        "    f.write(\"This is line 1.\\n\")\n",
        "    f.write(\"This is line 2.\\n\")\n",
        "    f.write(\"This is line 3.\\n\")\n",
        "\n",
        "def read_file_line_by_line(file_path):\n",
        "    with open(file_path, 'r') as file:\n",
        "        for line in file:\n",
        "            yield line.rstrip('\\n')  # Remove newline character\n",
        "\n",
        "# Replace 'example.txt' with the path to your file\n",
        "for line in read_file_line_by_line('example.txt'):\n",
        "    print(line)"
      ],
      "metadata": {
        "colab": {
          "base_uri": "https://localhost:8080/"
        },
        "id": "3YPFsaFAB8Ak",
        "outputId": "b1e712bb-4fc0-42d8-8a2b-7fd39c2e5cf3"
      },
      "execution_count": 20,
      "outputs": [
        {
          "output_type": "stream",
          "name": "stdout",
          "text": [
            "This is line 1.\n",
            "This is line 2.\n",
            "This is line 3.\n"
          ]
        }
      ]
    },
    {
      "cell_type": "markdown",
      "source": [
        "QUS 8:- . Use a lambda function in Python to sort a list of tuples based on the second element of each tuple"
      ],
      "metadata": {
        "id": "oSeMT6sTB-K8"
      }
    },
    {
      "cell_type": "code",
      "source": [
        "# Sample list of tuples\n",
        "data = [(1, 4), (3, 1), (5, 2), (2, 3)]\n",
        "\n",
        "# Sort by second element using lambda\n",
        "sorted_data = sorted(data, key=lambda x: x[1])\n",
        "\n",
        "print(\"Sorted list:\", sorted_data)\n"
      ],
      "metadata": {
        "colab": {
          "base_uri": "https://localhost:8080/"
        },
        "id": "BC8ojr-cCDoj",
        "outputId": "e4d99207-525f-44ca-ca6f-ed08a1faf5bd"
      },
      "execution_count": 21,
      "outputs": [
        {
          "output_type": "stream",
          "name": "stdout",
          "text": [
            "Sorted list: [(3, 1), (5, 2), (2, 3), (1, 4)]\n"
          ]
        }
      ]
    },
    {
      "cell_type": "markdown",
      "source": [
        "QUS 9 :- . Write a Python program that uses `map()` to convert a list of temperatures from Celsius to Fahrenheit."
      ],
      "metadata": {
        "id": "cOwQurKgCLns"
      }
    },
    {
      "cell_type": "code",
      "source": [
        "# List of temperatures in Celsius\n",
        "celsius_temps = [0, 20, 37, 100]\n",
        "\n",
        "# Convert to Fahrenheit using map and lambda\n",
        "fahrenheit_temps = list(map(lambda c: (c * 9/5) + 32, celsius_temps))\n",
        "\n",
        "print(\"Temperatures in Fahrenheit:\", fahrenheit_temps)\n"
      ],
      "metadata": {
        "colab": {
          "base_uri": "https://localhost:8080/"
        },
        "id": "kCR8_ZpRCQmM",
        "outputId": "1f88f505-c473-4215-db71-8a5e215f73ea"
      },
      "execution_count": 22,
      "outputs": [
        {
          "output_type": "stream",
          "name": "stdout",
          "text": [
            "Temperatures in Fahrenheit: [32.0, 68.0, 98.6, 212.0]\n"
          ]
        }
      ]
    },
    {
      "cell_type": "markdown",
      "source": [
        "QUS 10 :-  Create a Python program that uses `filter()` to remove all the vowels from a given string."
      ],
      "metadata": {
        "id": "vNUgpKkACWM1"
      }
    },
    {
      "cell_type": "code",
      "source": [
        "def remove_vowels(s):\n",
        "    vowels = 'aeiouAEIOU'\n",
        "    return ''.join(filter(lambda char: char not in vowels, s))\n",
        "\n",
        "# Example usage\n",
        "input_string = \"Hello, World!\"\n",
        "result = remove_vowels(input_string)\n",
        "print(\"String without vowels:\", result)\n"
      ],
      "metadata": {
        "colab": {
          "base_uri": "https://localhost:8080/"
        },
        "id": "PWmg6e9uCaHE",
        "outputId": "432c3d10-a4c8-41d8-a439-02e45e37f2df"
      },
      "execution_count": 23,
      "outputs": [
        {
          "output_type": "stream",
          "name": "stdout",
          "text": [
            "String without vowels: Hll, Wrld!\n"
          ]
        }
      ]
    },
    {
      "cell_type": "markdown",
      "source": [
        "QUS 11 ;- Imagine an accounting routine used in a book shop. It works on a list with sublists, which look like this:\n",
        " Write a Python program, which returns a list with 2-tuples. Each tuple consists of the order number and the\n",
        "product of the price per item and the quantity. The product should be increased by 10,- € if the value of the\n",
        "order is smaller than 100,00 €.\n",
        " Write a Python program using lambda and map"
      ],
      "metadata": {
        "id": "16Fozc7FCfEk"
      }
    },
    {
      "cell_type": "code",
      "source": [
        "orders = [\n",
        "    [34587, \"Learning Python\", 4, 40.95],\n",
        "    [98762, \"Programming Python\", 5, 56.80],\n",
        "    [77226, \"Head First Python\", 3, 32.95],\n",
        "    [88112, \"Einführung in Python3\", 3, 24.99]\n",
        "]\n",
        "\n",
        "# Map with lambda to calculate total price with surcharge if needed\n",
        "result = list(map(lambda order: (\n",
        "    order[0],\n",
        "    order[2] * order[3] if order[2] * order[3] >= 100 else order[2] * order[3] + 10\n",
        "), orders))\n",
        "\n",
        "print(result)\n"
      ],
      "metadata": {
        "colab": {
          "base_uri": "https://localhost:8080/"
        },
        "id": "HNE2hraVCoAk",
        "outputId": "c08c460a-02cb-4261-c329-303ccb321af2"
      },
      "execution_count": 24,
      "outputs": [
        {
          "output_type": "stream",
          "name": "stdout",
          "text": [
            "[(34587, 163.8), (98762, 284.0), (77226, 108.85000000000001), (88112, 84.97)]\n"
          ]
        }
      ]
    }
  ]
}